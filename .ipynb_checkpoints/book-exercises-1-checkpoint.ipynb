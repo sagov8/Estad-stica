{
 "cells": [
  {
   "cell_type": "markdown",
   "id": "408bca03",
   "metadata": {},
   "source": [
    "# Resolución de ejercicios\n",
    "\n",
    "## Taller No. 1\n"
   ]
  },
  {
   "cell_type": "markdown",
   "id": "6b4aa2ac",
   "metadata": {},
   "source": [
    "1. Dé una posible muestra de tamaño 4 de cada una de las siguientes poblaciones.\n",
    "\n",
    "\n",
    "    a. Todos los periódicos publicados en Estados Unidos.  \n",
    "\n",
    "\n",
    "    b. Todas las compañías listadas en la Bolsa de Valores de Nueva York.\n",
    "\n",
    "\n",
    "    c. Todos los estudiantes en su colegio o universidad.\n",
    "\n",
    "\n",
    "    d. Todas las calificaciones promedio de los estudiantes en su colegio o universidad."
   ]
  },
  {
   "cell_type": "markdown",
   "id": "43e7ab77",
   "metadata": {},
   "source": [
    "### a) Selección a través de muestra aleatoria simple"
   ]
  },
  {
   "cell_type": "code",
   "execution_count": null,
   "id": "99bfc0e5",
   "metadata": {},
   "outputs": [],
   "source": [
    "import numpy as np"
   ]
  },
  {
   "cell_type": "code",
   "execution_count": null,
   "id": "c290cbdb",
   "metadata": {},
   "outputs": [],
   "source": [
    "newspapers = ['The Wall Street Journal', 'The New York Times', 'USA Today', 'Los Angeles Times', 'San Jose Mercury',\n",
    "             'New York Daily News', 'New York Post', 'The Washington Post', 'Chicago Sun-Times', 'The Denver Post',\n",
    "             'Chicago Tribune']\n",
    "\n",
    "def selectRandom(newspapers):\n",
    "  return np.random.choice(newspapers, 4, False)\n",
    "\n",
    "selectRandom(newspapers)\n",
    "\n",
    "print(\"The selected newspapers are:\", selectRandom(newspapers))"
   ]
  },
  {
   "cell_type": "markdown",
   "id": "dc9bc0ba",
   "metadata": {},
   "source": [
    "### b) Scrapping de compañías de la bolsa de valores y selección por muestra aleatoria simple"
   ]
  },
  {
   "cell_type": "code",
   "execution_count": 5,
   "id": "1f5a8d96",
   "metadata": {},
   "outputs": [],
   "source": [
    "import requests\n",
    "from bs4 import BeautifulSoup\n",
    "import pandas as pd"
   ]
  },
  {
   "cell_type": "code",
   "execution_count": null,
   "id": "244f7edd",
   "metadata": {},
   "outputs": [],
   "source": [
    "url = 'https://www.eleconomista.es/mercados/Nueva-York'\n",
    "res = requests.get(url)\n",
    "print(res)"
   ]
  }
 ],
 "metadata": {
  "kernelspec": {
   "display_name": "Python 3 (ipykernel)",
   "language": "python",
   "name": "python3"
  },
  "language_info": {
   "codemirror_mode": {
    "name": "ipython",
    "version": 3
   },
   "file_extension": ".py",
   "mimetype": "text/x-python",
   "name": "python",
   "nbconvert_exporter": "python",
   "pygments_lexer": "ipython3",
   "version": "3.10.8"
  }
 },
 "nbformat": 4,
 "nbformat_minor": 5
}
