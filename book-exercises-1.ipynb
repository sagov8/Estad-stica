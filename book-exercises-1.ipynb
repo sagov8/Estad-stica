{
 "cells": [
  {
   "cell_type": "markdown",
   "id": "4807fa7c",
   "metadata": {},
   "source": [
    "# Solución de ejercicios\n",
    "\n",
    "## Taller No. 1\n"
   ]
  },
  {
   "cell_type": "markdown",
   "id": "10369d45",
   "metadata": {},
   "source": [
    "\n",
    "1. Dé una posible muestra de tamaño 4 de cada una de las siguientes poblaciones.\n",
    "\n",
    "\n",
    "    a. Todos los periódicos publicados en Estados Unidos.  \n",
    "\n",
    "\n",
    "    b. Todas las compañías listadas en la Bolsa de Valores de Nueva York.\n",
    "\n",
    "\n",
    "    c. Todos los estudiantes en su colegio o universidad.\n",
    "\n",
    "\n",
    "    d. Todas las calificaciones promedio de los estudiantes en su colegio o universidad."
   ]
  },
  {
   "cell_type": "markdown",
   "id": "e22ea2c3",
   "metadata": {},
   "source": [
    "### a) Selección a través de muestra aleatoria simple"
   ]
  },
  {
   "cell_type": "code",
   "execution_count": null,
   "id": "c1fd11de",
   "metadata": {},
   "outputs": [],
   "source": [
    "import numpy as np\n",
    "\n",
    "newspapers = ['The Wall Street Journal', 'The New York Times', 'USA Today', 'Los Angeles Times', 'San Jose Mercury',\n",
    "             'New York Daily News', 'New York Post', 'The Washington Post', 'Chicago Sun-Times', 'The Denver Post',\n",
    "             'Chicago Tribune']\n",
    "\n",
    "def selectRandom(list):\n",
    "  return np.random.choice(list, 4, False)\n",
    "\n",
    "selectRandom(newspapers)\n",
    "\n",
    "print(\"The selected newspapers are:\", selectRandom(newspapers))"
   ]
  },
  {
   "cell_type": "markdown",
   "id": "e38f31b2",
   "metadata": {},
   "source": [
    "### b) Scrapping de compañías de la bolsa de valores y selección por muestra aleatoria simple"
   ]
  },
  {
   "cell_type": "markdown",
   "id": "50375806",
   "metadata": {},
   "source": [
    "#### Link hacia el colab para scrapear página con las compañías\n",
    "\n",
    "<a href=\"https://colab.research.google.com/drive/1tIKHjBRyYC7RCiTv6VxqzeHnwi8UkKeX?hl=es#scrollTo=blHkvPJ3MIGj\">Notebook con el código</a>\n",
    "\n",
    "\n",
    "A partir del scrapping se obtiene un csv que tiene todos los nombres de las compañías aquí:\n",
    "\n",
    "<a href=\"datasets/companies.csv\">Archivo</a>"
   ]
  },
  {
   "cell_type": "code",
   "execution_count": null,
   "id": "ceb476ee",
   "metadata": {},
   "outputs": [],
   "source": [
    "import pandas as pd\n",
    "\n",
    "df = pd.read_csv('datasets/companies.csv')\n",
    "df.sample(4)"
   ]
  },
  {
   "cell_type": "markdown",
   "id": "5a5361b4",
   "metadata": {},
   "source": [
    "### c) Escoger 2 mujeres y 2 hombres de semestres al azar. (muestra aleatoria estratificada)"
   ]
  },
  {
   "cell_type": "code",
   "execution_count": 1,
   "id": "75eb9299",
   "metadata": {},
   "outputs": [
    {
     "data": {
      "text/html": [
       "<div>\n",
       "<style scoped>\n",
       "    .dataframe tbody tr th:only-of-type {\n",
       "        vertical-align: middle;\n",
       "    }\n",
       "\n",
       "    .dataframe tbody tr th {\n",
       "        vertical-align: top;\n",
       "    }\n",
       "\n",
       "    .dataframe thead th {\n",
       "        text-align: right;\n",
       "    }\n",
       "</style>\n",
       "<table border=\"1\" class=\"dataframe\">\n",
       "  <thead>\n",
       "    <tr style=\"text-align: right;\">\n",
       "      <th></th>\n",
       "      <th>username</th>\n",
       "      <th>name</th>\n",
       "      <th>sex</th>\n",
       "      <th>address</th>\n",
       "      <th>mail</th>\n",
       "      <th>birthdate</th>\n",
       "      <th>semester</th>\n",
       "    </tr>\n",
       "  </thead>\n",
       "  <tbody>\n",
       "    <tr>\n",
       "      <th>40</th>\n",
       "      <td>jlozada</td>\n",
       "      <td>Elvia Noemí Malave Navarrete</td>\n",
       "      <td>F</td>\n",
       "      <td>Avenida Michoacán de Ocampo 329 932\\nNueva Bah...</td>\n",
       "      <td>enriquebriones@gmail.com</td>\n",
       "      <td>1931-02-23</td>\n",
       "      <td>6</td>\n",
       "    </tr>\n",
       "    <tr>\n",
       "      <th>47</th>\n",
       "      <td>matosjacobo</td>\n",
       "      <td>Débora Catalina Arellano Zarate</td>\n",
       "      <td>F</td>\n",
       "      <td>Continuación Ballesteros 966 273\\nSan Catalina...</td>\n",
       "      <td>xsisneros@hotmail.com</td>\n",
       "      <td>1962-08-30</td>\n",
       "      <td>3</td>\n",
       "    </tr>\n",
       "    <tr>\n",
       "      <th>46</th>\n",
       "      <td>elias07</td>\n",
       "      <td>Yeni Ruelas</td>\n",
       "      <td>M</td>\n",
       "      <td>Privada Andorra 384 Interior 816\\nSan Modesto ...</td>\n",
       "      <td>nrios@hotmail.com</td>\n",
       "      <td>1925-03-02</td>\n",
       "      <td>7</td>\n",
       "    </tr>\n",
       "    <tr>\n",
       "      <th>50</th>\n",
       "      <td>cazaresestefania</td>\n",
       "      <td>Luis Miguel Salazar Burgos</td>\n",
       "      <td>M</td>\n",
       "      <td>Andador Serna 274 625\\nNueva Burkina Faso, MOR...</td>\n",
       "      <td>xsoria@hotmail.com</td>\n",
       "      <td>1947-01-05</td>\n",
       "      <td>4</td>\n",
       "    </tr>\n",
       "  </tbody>\n",
       "</table>\n",
       "</div>"
      ],
      "text/plain": [
       "            username                             name sex  \\\n",
       "40           jlozada     Elvia Noemí Malave Navarrete   F   \n",
       "47       matosjacobo  Débora Catalina Arellano Zarate   F   \n",
       "46           elias07                      Yeni Ruelas   M   \n",
       "50  cazaresestefania       Luis Miguel Salazar Burgos   M   \n",
       "\n",
       "                                              address  \\\n",
       "40  Avenida Michoacán de Ocampo 329 932\\nNueva Bah...   \n",
       "47  Continuación Ballesteros 966 273\\nSan Catalina...   \n",
       "46  Privada Andorra 384 Interior 816\\nSan Modesto ...   \n",
       "50  Andador Serna 274 625\\nNueva Burkina Faso, MOR...   \n",
       "\n",
       "                        mail   birthdate  semester  \n",
       "40  enriquebriones@gmail.com  1931-02-23         6  \n",
       "47     xsisneros@hotmail.com  1962-08-30         3  \n",
       "46         nrios@hotmail.com  1925-03-02         7  \n",
       "50        xsoria@hotmail.com  1947-01-05         4  "
      ]
     },
     "execution_count": 1,
     "metadata": {},
     "output_type": "execute_result"
    }
   ],
   "source": [
    "from faker import Faker\n",
    "import pandas as pd\n",
    "import numpy as np\n",
    "\n",
    "#Con el parámetro localization faker puede cambiar el idioma y localización de la info generada.\n",
    "fake = Faker('es_MX')\n",
    "people = []\n",
    "semester = []\n",
    "\n",
    "for _ in range(100):\n",
    "    people.append(fake.simple_profile())\n",
    "    semester.append(np.random.randint(1,10))\n",
    "\n",
    "df_people = pd.DataFrame(people)\n",
    "df_people.insert(6, \"semester\", semester)\n",
    "\n",
    "muestra_f = df_people[df_people.sex=='F'].sample(2)\n",
    "muestra_m = df_people[df_people.sex=='M'].sample(2)\n",
    "\n",
    "muestra = pd.concat([muestra_f, muestra_m])\n",
    "muestra"
   ]
  },
  {
   "cell_type": "markdown",
   "id": "8e0ae681",
   "metadata": {},
   "source": [
    "### d) Escoger la calificación final de 4 materias al azar."
   ]
  },
  {
   "cell_type": "code",
   "execution_count": 1,
   "id": "10791a4d",
   "metadata": {},
   "outputs": [
    {
     "data": {
      "text/html": [
       "<div>\n",
       "<style scoped>\n",
       "    .dataframe tbody tr th:only-of-type {\n",
       "        vertical-align: middle;\n",
       "    }\n",
       "\n",
       "    .dataframe tbody tr th {\n",
       "        vertical-align: top;\n",
       "    }\n",
       "\n",
       "    .dataframe thead th {\n",
       "        text-align: right;\n",
       "    }\n",
       "</style>\n",
       "<table border=\"1\" class=\"dataframe\">\n",
       "  <thead>\n",
       "    <tr style=\"text-align: right;\">\n",
       "      <th></th>\n",
       "      <th>0</th>\n",
       "    </tr>\n",
       "  </thead>\n",
       "  <tbody>\n",
       "    <tr>\n",
       "      <th>0</th>\n",
       "      <td>1.3</td>\n",
       "    </tr>\n",
       "    <tr>\n",
       "      <th>1</th>\n",
       "      <td>1.3</td>\n",
       "    </tr>\n",
       "    <tr>\n",
       "      <th>2</th>\n",
       "      <td>4.6</td>\n",
       "    </tr>\n",
       "    <tr>\n",
       "      <th>3</th>\n",
       "      <td>0.9</td>\n",
       "    </tr>\n",
       "  </tbody>\n",
       "</table>\n",
       "</div>"
      ],
      "text/plain": [
       "     0\n",
       "0  1.3\n",
       "1  1.3\n",
       "2  4.6\n",
       "3  0.9"
      ]
     },
     "execution_count": 1,
     "metadata": {},
     "output_type": "execute_result"
    }
   ],
   "source": [
    "import numpy as np\n",
    "import pandas as pd\n",
    "\n",
    "calificaciones = []\n",
    "\n",
    "for _ in range(200):\n",
    "    #random.uniform recibe dos parámetros (rango, número de decimales)\n",
    "    calificaciones.append(round(np.random.uniform(0, 5), 1))\n",
    "\n",
    "df = pd.DataFrame(calificaciones)\n",
    "df.sample(4, ignore_index=True)\n"
   ]
  }
 ],
 "metadata": {
  "kernelspec": {
   "display_name": "Python 3 (ipykernel)",
   "language": "python",
   "name": "python3"
  },
  "language_info": {
   "codemirror_mode": {
    "name": "ipython",
    "version": 3
   },
   "file_extension": ".py",
   "mimetype": "text/x-python",
   "name": "python",
   "nbconvert_exporter": "python",
   "pygments_lexer": "ipython3",
   "version": "3.10.8"
  }
 },
 "nbformat": 4,
 "nbformat_minor": 5
}
